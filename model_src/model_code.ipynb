{
  "nbformat": 4,
  "nbformat_minor": 0,
  "metadata": {
    "colab": {
      "name": "model_code.ipynb",
      "provenance": [],
      "collapsed_sections": []
    },
    "kernelspec": {
      "name": "python3",
      "display_name": "Python 3"
    },
    "language_info": {
      "name": "python"
    },
    "accelerator": "GPU"
  },
  "cells": [
    {
      "cell_type": "code",
      "metadata": {
        "id": "EcMUnBjU6Bct"
      },
      "source": [
        "import os\n",
        "os.environ['KAGGLE_CONFIG_DIR'] = '/content'"
      ],
      "execution_count": 1,
      "outputs": []
    },
    {
      "cell_type": "code",
      "metadata": {
        "id": "6b4hH3MJ8Z9s"
      },
      "source": [
        "!kaggle datasets download -d cactus3/basicshapes"
      ],
      "execution_count": null,
      "outputs": []
    },
    {
      "cell_type": "code",
      "metadata": {
        "id": "kxQxL_ku8hhr"
      },
      "source": [
        "!unzip \\*.zip && rm *.zip"
      ],
      "execution_count": null,
      "outputs": []
    },
    {
      "cell_type": "code",
      "metadata": {
        "colab": {
          "base_uri": "https://localhost:8080/"
        },
        "id": "TsGq7wif8qop",
        "outputId": "b5c16925-f553-45c0-b926-cb64e69b8055"
      },
      "source": [
        "import pathlib\n",
        "Dir = 'shapes'\n",
        "dataDir = pathlib.Path(Dir)\n",
        "dataDir"
      ],
      "execution_count": 4,
      "outputs": [
        {
          "output_type": "execute_result",
          "data": {
            "text/plain": [
              "PosixPath('shapes')"
            ]
          },
          "metadata": {},
          "execution_count": 4
        }
      ]
    },
    {
      "cell_type": "code",
      "metadata": {
        "id": "wnVOXy0J98lO"
      },
      "source": [
        "import matplotlib.pyplot as plt\n",
        "import numpy as np\n",
        "import cv2\n",
        "from PIL import Image\n",
        "import tensorflow as tf\n",
        "import tensorflow_hub as hub\n",
        "from tensorflow import keras\n",
        "from tensorflow.keras import layers\n",
        "from tensorflow.keras.models import Sequential"
      ],
      "execution_count": 24,
      "outputs": []
    },
    {
      "cell_type": "code",
      "metadata": {
        "id": "zMF3_OhL9I1t",
        "colab": {
          "base_uri": "https://localhost:8080/",
          "height": 45
        },
        "outputId": "2a03ac9b-952e-41d3-89d9-63c66bd1d088"
      },
      "source": [
        "circles = list(dataDir.glob(\"circles/*\"))\n",
        "Image.open(circles[0])"
      ],
      "execution_count": 7,
      "outputs": [
        {
          "output_type": "execute_result",
          "data": {
            "image/png": "[encoded data removed]",
            "text/plain": [
              "<PIL.PngImagePlugin.PngImageFile image mode=RGB size=28x28 at 0x7FD8C9B1A490>"
            ]
          },
          "metadata": {},
          "execution_count": 7
        }
      ]
    },
    {
      "cell_type": "code",
      "metadata": {
        "id": "5VRi7IT8-JU0"
      },
      "source": [
        "triangles = list(dataDir.glob(\"triangles/*\"))\n",
        "squares = list(dataDir.glob(\"squares/*\"))"
      ],
      "execution_count": 8,
      "outputs": []
    },
    {
      "cell_type": "code",
      "metadata": {
        "colab": {
          "base_uri": "https://localhost:8080/",
          "height": 45
        },
        "id": "hwkwOk6i_D97",
        "outputId": "4846da41-02a8-4775-bcc4-acaa33522bd0"
      },
      "source": [
        "Image.open(str(triangles[2]))\n"
      ],
      "execution_count": 9,
      "outputs": [
        {
          "output_type": "execute_result",
          "data": {
            "image/png": "[encoded data removed]",
            "text/plain": [
              "<PIL.PngImagePlugin.PngImageFile image mode=RGB size=28x28 at 0x7FD94CD81FD0>"
            ]
          },
          "metadata": {},
          "execution_count": 9
        }
      ]
    },
    {
      "cell_type": "code",
      "metadata": {
        "colab": {
          "base_uri": "https://localhost:8080/",
          "height": 45
        },
        "id": "8JTK8ZjEASlI",
        "outputId": "44801a68-0b3a-4f54-aa67-710a83f0b42d"
      },
      "source": [
        "Image.open(str(squares[3]))"
      ],
      "execution_count": 10,
      "outputs": [
        {
          "output_type": "execute_result",
          "data": {
            "image/png": "[encoded data removed]",
            "text/plain": [
              "<PIL.PngImagePlugin.PngImageFile image mode=RGB size=28x28 at 0x7FD8C9A95D90>"
            ]
          },
          "metadata": {},
          "execution_count": 10
        }
      ]
    },
    {
      "cell_type": "code",
      "metadata": {
        "id": "qQpwVzLtA-Wy"
      },
      "source": [
        "img_dic ={\n",
        "    'circle':circles,\n",
        "    'square':squares,\n",
        "    'tringle':triangles\n",
        "}\n",
        "\n",
        "label_dic ={\n",
        "    'circle':0,\n",
        "    'square':1,\n",
        "    'tringle':2\n",
        "}"
      ],
      "execution_count": 11,
      "outputs": []
    },
    {
      "cell_type": "code",
      "metadata": {
        "id": "s0YEOBwPB0pB"
      },
      "source": [
        "train =[]\n",
        "test = []\n",
        "\n",
        "for key,value in img_dic.items():\n",
        "  for img in value:\n",
        "    re = cv2.imread(str(img))\n",
        "    img = cv2.resize(re,(224,224))\n",
        "    train.append(img)\n",
        "    test.append(label_dic[key])"
      ],
      "execution_count": 17,
      "outputs": []
    },
    {
      "cell_type": "markdown",
      "metadata": {
        "id": "VoRxYKlyILhy"
      },
      "source": [
        "according to the data the imgs are 28*28\n",
        "but according to the pretrained model doc the model accepts only 224*224 imgs, so resize should have to be done.\n",
        "model link: https://tfhub.dev/google/tf2-preview/mobilenet_v2/classification/4\n",
        "\n"
      ]
    },
    {
      "cell_type": "code",
      "metadata": {
        "id": "sxnDylZpa_ZC"
      },
      "source": [
        "train = np.array(train)\n",
        "test = np.array(test)\n",
        "from sklearn.model_selection import train_test_split\n",
        "x_train , x_test , y_train , y_test = train_test_split(train,test, train_size=0.8,random_state = 4)"
      ],
      "execution_count": 27,
      "outputs": []
    },
    {
      "cell_type": "code",
      "metadata": {
        "id": "_va0ySMneWqA"
      },
      "source": [
        "x_train_scaled = x_train / 255\n",
        "x_test_scaled = x_test / 255"
      ],
      "execution_count": 28,
      "outputs": []
    },
    {
      "cell_type": "code",
      "metadata": {
        "id": "kq_aSnltClvE"
      },
      "source": [
        "fmodel = \"https://tfhub.dev/google/tf2-preview/mobilenet_v2/feature_vector/4\"\n",
        "pre_trained = hub.KerasLayer(fmodel,input_shape = (224,224,3), trainable = False )"
      ],
      "execution_count": 15,
      "outputs": []
    },
    {
      "cell_type": "code",
      "metadata": {
        "colab": {
          "base_uri": "https://localhost:8080/"
        },
        "id": "th1C3FVQEWP4",
        "outputId": "89a4b2d2-ccda-4940-a31a-1c8a5d04dff5"
      },
      "source": [
        "no_of_shapes = 3\n",
        "model = tf.keras.Sequential([pre_trained, tf.keras.layers.Dense(no_of_shapes)])\n",
        "model.summary()"
      ],
      "execution_count": 16,
      "outputs": [
        {
          "output_type": "stream",
          "name": "stdout",
          "text": [
            "Model: \"sequential_1\"\n",
            "_________________________________________________________________\n",
            " Layer (type)                Output Shape              Param #   \n",
            "=================================================================\n",
            " keras_layer_1 (KerasLayer)  (None, 1280)              2257984   \n",
            "                                                                 \n",
            " dense_1 (Dense)             (None, 3)                 3843      \n",
            "                                                                 \n",
            "=================================================================\n",
            "Total params: 2,261,827\n",
            "Trainable params: 3,843\n",
            "Non-trainable params: 2,257,984\n",
            "_________________________________________________________________\n"
          ]
        }
      ]
    },
    {
      "cell_type": "code",
      "metadata": {
        "id": "tHI6f99HG9QI"
      },
      "source": [
        "model.compile(\n",
        "    optimizer = 'adam',\n",
        "    loss = tf.keras.losses.SparseCategoricalCrossentropy(from_logits=True),\n",
        "    metrics = ['acc']\n",
        ")\n"
      ],
      "execution_count": 21,
      "outputs": []
    },
    {
      "cell_type": "code",
      "metadata": {
        "colab": {
          "base_uri": "https://localhost:8080/"
        },
        "id": "02E2YJoaeH3R",
        "outputId": "79b1a6a2-1b19-402e-aaee-b6b9a36f918c"
      },
      "source": [
        "model.fit(x_train_scaled,y_train , epochs= 10)"
      ],
      "execution_count": 30,
      "outputs": [
        {
          "output_type": "stream",
          "name": "stdout",
          "text": [
            "Epoch 1/10\n",
            "8/8 [==============================] - 1s 89ms/step - loss: 0.3168 - acc: 0.9250\n",
            "Epoch 2/10\n",
            "8/8 [==============================] - 1s 78ms/step - loss: 0.1205 - acc: 0.9875\n",
            "Epoch 3/10\n",
            "8/8 [==============================] - 1s 78ms/step - loss: 0.0651 - acc: 0.9917\n",
            "Epoch 4/10\n",
            "8/8 [==============================] - 1s 77ms/step - loss: 0.0466 - acc: 0.9958\n",
            "Epoch 5/10\n",
            "8/8 [==============================] - 1s 78ms/step - loss: 0.0361 - acc: 0.9958\n",
            "Epoch 6/10\n",
            "8/8 [==============================] - 1s 78ms/step - loss: 0.0297 - acc: 0.9958\n",
            "Epoch 7/10\n",
            "8/8 [==============================] - 1s 78ms/step - loss: 0.0254 - acc: 0.9958\n",
            "Epoch 8/10\n",
            "8/8 [==============================] - 1s 77ms/step - loss: 0.0227 - acc: 0.9958\n",
            "Epoch 9/10\n",
            "8/8 [==============================] - 1s 76ms/step - loss: 0.0200 - acc: 0.9958\n",
            "Epoch 10/10\n",
            "8/8 [==============================] - 1s 77ms/step - loss: 0.0178 - acc: 1.0000\n"
          ]
        },
        {
          "output_type": "execute_result",
          "data": {
            "text/plain": [
              "<keras.callbacks.History at 0x7fd8475baa90>"
            ]
          },
          "metadata": {},
          "execution_count": 30
        }
      ]
    },
    {
      "cell_type": "code",
      "metadata": {
        "colab": {
          "base_uri": "https://localhost:8080/"
        },
        "id": "6wNBmEKcfe7o",
        "outputId": "534955ec-2336-413b-bbb1-94a24ee0e8f8"
      },
      "source": [
        "model.evaluate(x_test_scaled,y_test)"
      ],
      "execution_count": 31,
      "outputs": [
        {
          "output_type": "stream",
          "name": "stdout",
          "text": [
            "2/2 [==============================] - 1s 715ms/step - loss: 0.0230 - acc: 1.0000\n"
          ]
        },
        {
          "output_type": "execute_result",
          "data": {
            "text/plain": [
              "[0.022987348958849907, 1.0]"
            ]
          },
          "metadata": {},
          "execution_count": 31
        }
      ]
    },
    {
      "cell_type": "code",
      "metadata": {
        "colab": {
          "base_uri": "https://localhost:8080/"
        },
        "id": "wyRgvpBmf-Na",
        "outputId": "1a657444-150f-401e-df31-8a2782e05d69"
      },
      "source": [
        "import pickle\n",
        "pickle.dump(model, open('model.pkl','wb'))"
      ],
      "execution_count": 32,
      "outputs": [
        {
          "output_type": "stream",
          "name": "stdout",
          "text": [
            "INFO:tensorflow:Assets written to: ram://a1d8994a-116c-412d-a147-89e105ce9724/assets\n"
          ]
        },
        {
          "output_type": "stream",
          "name": "stderr",
          "text": [
            "INFO:tensorflow:Assets written to: ram://a1d8994a-116c-412d-a147-89e105ce9724/assets\n"
          ]
        }
      ]
    },
    {
      "cell_type": "code",
      "metadata": {
        "id": "Ju6iVX1sgycG"
      },
      "source": [
        ""
      ],
      "execution_count": null,
      "outputs": []
    }
  ]
}